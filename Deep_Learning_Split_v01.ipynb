{
 "cells": [
  {
   "cell_type": "code",
   "execution_count": 1,
   "metadata": {
    "collapsed": false
   },
   "outputs": [],
   "source": [
    "import numpy as np\n",
    "np.random.seed(2016)\n",
    "import os\n",
    "import glob\n",
    "import sys\n",
    "import warnings\n",
    "import platform\n",
    "import random\n",
    "import time as tm\n",
    "import pandas as pd\n",
    "from shutil import copyfile\n",
    "import requests, zipfile, StringIO"
   ]
  },
  {
   "cell_type": "code",
   "execution_count": 2,
   "metadata": {
    "collapsed": true
   },
   "outputs": [],
   "source": [
    "#  http://stackoverflow.com/a/14260592/226800\n",
    "zip_file_url = 'http://www.cl.cam.ac.uk/Research/DTG/attarchive/pub/data/att_faces.zip'\n",
    "r = requests.get(zip_file_url, stream=True)\n",
    "z = zipfile.ZipFile(StringIO.StringIO(r.content))\n",
    "z.extractall(\"att_faces/full\")"
   ]
  },
  {
   "cell_type": "code",
   "execution_count": 3,
   "metadata": {
    "collapsed": true
   },
   "outputs": [],
   "source": [
    "def split_data():\n",
    "\n",
    "    sub_folder = []\n",
    "    for folder in glob.glob(os.path.join(file_path,\"full\",\"*/\")):\n",
    "        sub_folder.append(os.path.basename(os.path.dirname(folder)))\n",
    "\n",
    "    if not(os.path.isdir(os.path.join(file_path, \"train\"))):\n",
    "        os.makedirs(os.path.join(file_path, \"train\"))\n",
    "\n",
    "    if not(os.path.isdir(os.path.join(file_path, \"test\"))):\n",
    "        os.makedirs(os.path.join(file_path, \"test\"))\n",
    "\n",
    "    for tf in sub_folder:\n",
    "\n",
    "        path2=os.path.join(file_path,\"full\",tf)\n",
    "        path = os.path.join(path2,'*.pgm')\n",
    "\n",
    "        try:\n",
    "            os.makedirs(os.path.join(file_path,\"train\",tf))\n",
    "        except:\n",
    "            for f in glob.glob(os.path.join(file_path,\"train\",tf,\"*\")):\n",
    "                os.remove(f)\n",
    "\n",
    "        try:\n",
    "            os.makedirs(os.path.join(file_path,\"test\",tf))\n",
    "        except:\n",
    "            for f in glob.glob(os.path.join(file_path,\"test\",tf,\"*\")):\n",
    "                os.remove(f)\n",
    "\n",
    "        files = glob.glob(path)\n",
    "        random.shuffle(files)\n",
    "\n",
    "\n",
    "        for fl in files[0:(train_ratio/10)]:\n",
    "            target = os.path.join(file_path,'train',tf,os.path.basename(fl))\n",
    "            copyfile(fl, target)\n",
    "\n",
    "        for fl in files[(train_ratio/10):len(files)]:\n",
    "            target = os.path.join(file_path,'test',tf,os.path.basename(fl))\n",
    "            copyfile(fl, target)"
   ]
  },
  {
   "cell_type": "code",
   "execution_count": 4,
   "metadata": {
    "collapsed": false
   },
   "outputs": [],
   "source": [
    "def main(train_precent_ratio=60):\n",
    "\n",
    "    pd.set_option('display.width', 200)\n",
    "    pd.set_option('display.height', 500)\n",
    "\n",
    "    global train_ratio\n",
    "    train_ratio = train_precent_ratio\n",
    "    warnings.filterwarnings(\"ignore\")\n",
    "\n",
    "    global file_path\n",
    "\n",
    "    file_path = os.path.abspath(\"att_faces\")\n",
    "    print(\"Train ratio is \" + str(train_ratio))\n",
    "    split_data()"
   ]
  },
  {
   "cell_type": "code",
   "execution_count": 5,
   "metadata": {
    "collapsed": false
   },
   "outputs": [
    {
     "name": "stdout",
     "output_type": "stream",
     "text": [
      "height has been deprecated.\n",
      "\n",
      "Train ratio is 60\n"
     ]
    }
   ],
   "source": [
    "main(train_precent_ratio=60)"
   ]
  },
  {
   "cell_type": "code",
   "execution_count": null,
   "metadata": {
    "collapsed": true
   },
   "outputs": [],
   "source": []
  }
 ],
 "metadata": {
  "hide_input": false,
  "kernelspec": {
   "display_name": "Python 2",
   "language": "python",
   "name": "python2"
  },
  "language_info": {
   "codemirror_mode": {
    "name": "ipython",
    "version": 2
   },
   "file_extension": ".py",
   "mimetype": "text/x-python",
   "name": "python",
   "nbconvert_exporter": "python",
   "pygments_lexer": "ipython2",
   "version": "2.7.6"
  }
 },
 "nbformat": 4,
 "nbformat_minor": 2
}
